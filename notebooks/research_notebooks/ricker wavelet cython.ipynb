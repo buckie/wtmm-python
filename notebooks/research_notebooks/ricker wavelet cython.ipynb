{
 "metadata": {
  "name": "",
  "signature": "sha256:b6f30a167be5714614347d704488c671399ab875639e6e6078f618e0fb7ec22c"
 },
 "nbformat": 3,
 "nbformat_minor": 0,
 "worksheets": [
  {
   "cells": [
    {
     "cell_type": "code",
     "collapsed": false,
     "input": [
      "%load_ext cythonmagic"
     ],
     "language": "python",
     "metadata": {},
     "outputs": [],
     "prompt_number": 1
    },
    {
     "cell_type": "code",
     "collapsed": false,
     "input": [
      "%%cython\n",
      "# cython: cdivision=True\n",
      "\n",
      "from __future__ import division\n",
      "\n",
      "import numpy as np\n",
      "from numpy import pi\n",
      "cimport numpy as np\n",
      "\n",
      "from libc.math cimport sqrt, exp, sin, cos, pow, M_PI\n",
      "\n",
      "cimport cython\n",
      "from cython.parallel import prange\n",
      "\n",
      "# Defining data types: --------\n",
      "# time:\n",
      "DTYPE = np.float32\n",
      "ctypedef np.float32_t DTYPE_t\n",
      "\n",
      "# wavelet transform:\n",
      "DTYPEC = np.complex128\n",
      "ctypedef np.complex128_t DTYPEC_t\n",
      "\n",
      "# Index\n",
      "ctypedef Py_ssize_t index_t\n",
      "\n",
      "# Input data. Could be float or double.\n",
      "ctypedef np.float64_t data_t\n",
      "# ---------------------------\n",
      "\n",
      "# some optimizations for the ricker wavelet\n",
      "# cdef np.float64_t __ricker_const = 2 / (sqrt(3 * sqrt(M_PI)))\n",
      "# Hardcoded \n",
      "cdef inline np.float64_t __ricker_const = 0.86732507058407748\n",
      "\n",
      "cdef inline np.float64_t ricker(double t) nogil:\n",
      "    '''\n",
      "    Inlined Ricker transform.\n",
      "\n",
      "    NB: Normalization is assumed to have already occurred\n",
      "\n",
      "    t: normalised variable (x/a)\n",
      "    '''\n",
      "\n",
      "    return __ricker_const * (1 - t * t) * exp(-0.5 * t * t)\n",
      "\n",
      "# inlined min & max\n",
      "cdef inline int int_max(int a, int b) nogil: return a if a >= b else b\n",
      "cdef inline int int_min(int a, int b) nogil: return a if a <= b else b\n",
      "\n",
      "@cython.boundscheck(False)\n",
      "@cython.wraparound(False)\n",
      "@cython.cdivision(True)\n",
      "cpdef np.ndarray[data_t, ndim=2] rwt(np.ndarray[data_t, ndim=1] x, np.ndarray[data_t, ndim=1] scales):\n",
      "    '''Perform Ricker continuous wavelet transform\n",
      "\n",
      "    Input:\n",
      "    -----\n",
      "        x:      1-D float64 np.ndarray. The data to be transformed.\n",
      "        scales: 1-D float64 np.ndarray. Scales at which to perform the transformation.\n",
      "\n",
      "    Returns:\n",
      "    -------\n",
      "        out: the cwt of the input.\n",
      "        \n",
      "    '''\n",
      "\n",
      "    cdef:\n",
      "        int N = scales.shape[0]\n",
      "        int M = x.shape[0]\n",
      "        double s, t_norm\n",
      "        index_t i, tau, k\n",
      "        DTYPE_t integral_sum\n",
      "        int kminus, k_plus\n",
      "        int int_s\n",
      "\n",
      "    # Defining the output file.\n",
      "    cdef np.ndarray[DTYPE_t, ndim = 2] out = np.empty((N, M), dtype=DTYPE)\n",
      "\n",
      "    with nogil:\n",
      "        for i in xrange(N):\n",
      "            s = scales[i]\n",
      "            for tau in xrange(M):\n",
      "                integral_sum = 0.0\n",
      "\n",
      "                # Only certain values of the integral contribute due to the\n",
      "                # exponential decay. Allowing 8 sigma implies an error of 8e-14\n",
      "\n",
      "                # We don't want to go outside of the limits:\n",
      "                int_s = int(s)\n",
      "                kminus = int_max(tau - 8 * int_s, 1)\n",
      "                k_plus = int_min(tau + 8 * int_s, M - 1)\n",
      "\n",
      "                for k in xrange(kminus + 1, k_plus):\n",
      "                    t_norm = (k - tau) / s\n",
      "                    integral_sum += ricker(t_norm) * x[k]\n",
      "\n",
      "                # To make results coincide with trapezoidal rule, we also consider\n",
      "                # the extrema, if necessary.\n",
      "                if kminus == 1:\n",
      "                    integral_sum += 0.5 * ricker(-tau / s) * x[0]\n",
      "\n",
      "                if k_plus == M - 1:\n",
      "                    t_norm = (M - 1 - tau) / s\n",
      "                    integral_sum += 0.5 * ricker(t_norm) * x[M - 1]\n",
      "\n",
      "                # Normalise and store.\n",
      "                out[i, tau] = integral_sum / sqrt(s)\n",
      "\n",
      "    return out\n",
      "\n",
      "\n",
      "@cython.wraparound(False)\n",
      "@cython.boundscheck(False)\n",
      "@cython.nonecheck(False)\n",
      "@cython.cdivision(True)\n",
      "cpdef np.ndarray[data_t, ndim=2] par_rwt(np.ndarray[data_t, ndim=1] x, np.ndarray[data_t, ndim=1] scales):\n",
      "    '''\n",
      "    Parrallelized Ricker CWT -- this has been verified as valid against the single threaded version\n",
      "\n",
      "    :param x:      1-D float64 np.ndarray. The data to be transformed.\n",
      "    :param scales: 1-D float64 np.ndarray. Scales at which to perform the transformation.\n",
      "\n",
      "    :returns out:  the Ricker CWT of the input\n",
      "        \n",
      "    '''\n",
      "\n",
      "    cdef:\n",
      "        int num_scales = scales.shape[0]\n",
      "        int num_data = x.shape[0]\n",
      "        double scale, t_norm\n",
      "        index_t scale_idx\n",
      "        DTYPE_t integral_sum\n",
      "\n",
      "    # Defining the output file.\n",
      "    cdef np.ndarray[DTYPE_t, ndim = 2] out = np.empty((num_scales, num_data), dtype=DTYPE)\n",
      "\n",
      "    with nogil:\n",
      "        for scale_idx in prange(num_scales):\n",
      "            # process the CWT in parrallel\n",
      "            scale = scales[scale_idx]\n",
      "            \n",
      "            # void function that writes to the appropriate points in out\n",
      "            # warning: make sure the bounds here are correct\n",
      "            _rwt_single(&x[0], &out[scale_idx,0], scale, num_data)\n",
      "\n",
      "    return out\n",
      "\n",
      "\n",
      "@cython.wraparound(False)\n",
      "@cython.boundscheck(False)\n",
      "@cython.nonecheck(False)\n",
      "@cython.cdivision(True)\n",
      "cdef inline void _rwt_single(data_t *x, DTYPE_t *out, data_t scale, int M) nogil:\n",
      "    '''\n",
      "    Inner loop of the Ricker CWT\n",
      "    \n",
      "    x: data, pointer to first element\n",
      "    out: output array, pointer to segment that we want to write to\n",
      "    scale: what scale to run the computation\n",
      "    M: number of data points\n",
      "    '''\n",
      "    cdef:\n",
      "        double t_norm\n",
      "        index_t i, tau, k\n",
      "        DTYPE_t integral_sum\n",
      "        int k_minus, k_plus\n",
      "        int int_s\n",
      "        \n",
      "    for tau in range(M):\n",
      "        integral_sum = 0.0\n",
      "\n",
      "        # Only certain values of the integral contribute due to the\n",
      "        # exponential decay. Allowing 8 sigma implies an error of 8e-14\n",
      "\n",
      "        # We don't want to go outside of the limits:\n",
      "        int_s = int(scale)\n",
      "        k_minus = int_max(tau - 8 * int_s, 1)\n",
      "        k_plus = int_min(tau + 8 * int_s, M - 1)\n",
      "\n",
      "        for k in xrange(k_minus + 1, k_plus):\n",
      "            t_norm = (k - tau) / scale\n",
      "            integral_sum += ricker(t_norm) * x[k]\n",
      "\n",
      "        # To make results coincide with trapezoidal rule, we also consider\n",
      "        # the extrema, if necessary.\n",
      "        if k_minus == 1:\n",
      "            integral_sum += 0.5 * ricker(-tau / scale) * x[0]\n",
      "\n",
      "        if k_plus == M - 1:\n",
      "            t_norm = (M - 1 - tau) / scale\n",
      "            integral_sum += 0.5 * ricker(t_norm) * x[M - 1]\n",
      "\n",
      "        # Normalise and store.\n",
      "        out[tau] = integral_sum / sqrt(scale)\n"
     ],
     "language": "python",
     "metadata": {},
     "outputs": [],
     "prompt_number": 8
    },
    {
     "cell_type": "code",
     "collapsed": false,
     "input": [
      "from scipy import signal\n",
      "import numpy as np\n",
      "import pandas as pd\n",
      "import matplotlib.pyplot as plt\n",
      "import tables\n",
      "\n",
      "df = pd.io.pytables.read_hdf('../../../dev/py_vs_q/db/trades.h5', 'table')\n",
      "df.reset_index(inplace=True)\n",
      "prices = df[df['SYM_ROOT'] == 'AAPL']['PRICE'][2000:3000].values\n",
      "plt.plot(prices)"
     ],
     "language": "python",
     "metadata": {},
     "outputs": [
      {
       "metadata": {},
       "output_type": "pyout",
       "prompt_number": 16,
       "text": [
        "[<matplotlib.lines.Line2D at 0x7fe32b87c310>]"
       ]
      },
      {
       "metadata": {},
       "output_type": "display_data",
       "png": "[encoded data removed]",
       "text": [
        "<matplotlib.figure.Figure at 0x7fe33e337a50>"
       ]
      }
     ],
     "prompt_number": 16
    },
    {
     "cell_type": "code",
     "collapsed": false,
     "input": [
      "prices.dtype"
     ],
     "language": "python",
     "metadata": {},
     "outputs": [
      {
       "metadata": {},
       "output_type": "pyout",
       "prompt_number": 18,
       "text": [
        "dtype('float64')"
       ]
      }
     ],
     "prompt_number": 18
    },
    {
     "cell_type": "code",
     "collapsed": false,
     "input": [
      "scales = np.arange(1, len(prices)/10, dtype=np.float64)\n",
      "\n",
      "w_coefs = rwt(prices, scales)**2\n",
      "plt.pcolor(w_coefs)\n",
      "plt.colorbar()\n",
      "plt.show()"
     ],
     "language": "python",
     "metadata": {},
     "outputs": [
      {
       "metadata": {},
       "output_type": "display_data",
       "png": "[encoded data removed]",
       "text": [
        "<matplotlib.figure.Figure at 0x7fe32b8f9e90>"
       ]
      }
     ],
     "prompt_number": 19
    },
    {
     "cell_type": "code",
     "collapsed": false,
     "input": [
      "x = np.random.randn(10000).astype(np.float64)\n",
      "scales = np.arange(1, 10, dtype=np.float64)"
     ],
     "language": "python",
     "metadata": {},
     "outputs": [],
     "prompt_number": 9
    },
    {
     "cell_type": "code",
     "collapsed": false,
     "input": [
      "%%timeit\n",
      "\n",
      "rwt(x, scales)"
     ],
     "language": "python",
     "metadata": {},
     "outputs": [
      {
       "output_type": "stream",
       "stream": "stdout",
       "text": [
        "1 loops, best of 3: 316 ms per loop\n"
       ]
      }
     ],
     "prompt_number": 12
    },
    {
     "cell_type": "code",
     "collapsed": false,
     "input": [
      "%%timeit\n",
      "\n",
      "par_rwt(x, scales)"
     ],
     "language": "python",
     "metadata": {},
     "outputs": [
      {
       "output_type": "stream",
       "stream": "stdout",
       "text": [
        "1 loops, best of 3: 315 ms per loop\n"
       ]
      }
     ],
     "prompt_number": 13
    },
    {
     "cell_type": "code",
     "collapsed": false,
     "input": [
      "ps = par_rwt(x, scales)\n",
      "ss = rwt(x, scales)\n",
      "\n",
      "for i in xrange(9):\n",
      "    assert np.array_equal(ss[i], ps[i]), i"
     ],
     "language": "python",
     "metadata": {},
     "outputs": [],
     "prompt_number": 78
    },
    {
     "cell_type": "code",
     "collapsed": false,
     "input": [
      "len(ps)"
     ],
     "language": "python",
     "metadata": {},
     "outputs": [
      {
       "metadata": {},
       "output_type": "pyout",
       "prompt_number": 76,
       "text": [
        "9"
       ]
      }
     ],
     "prompt_number": 76
    },
    {
     "cell_type": "code",
     "collapsed": false,
     "input": [
      "import pstats, cProfile\n",
      "\n",
      "cProfile.runctx(\"par_rwt(x, scales)\", globals(), locals(), \"Profile.prof\")\n",
      "\n",
      "s = pstats.Stats(\"Profile.prof\")\n",
      "s.strip_dirs().sort_stats(\"time\").print_stats()"
     ],
     "language": "python",
     "metadata": {},
     "outputs": [
      {
       "output_type": "stream",
       "stream": "stdout",
       "text": [
        "Mon Jul 28 12:00:18 2014    Profile.prof\n",
        "\n",
        "         4 function calls in 0.011 seconds\n",
        "\n",
        "   Ordered by: internal time\n",
        "\n",
        "   ncalls  tottime  percall  cumtime  percall filename:lineno(function)\n",
        "        1    0.011    0.011    0.011    0.011 _cython_magic_3b6b6e25349a0cc1181d5827102bdfd0.pyx:116(par_rwt)\n",
        "        1    0.000    0.000    0.011    0.011 <string>:1(<module>)\n",
        "        1    0.000    0.000    0.011    0.011 {_cython_magic_3b6b6e25349a0cc1181d5827102bdfd0.par_rwt}\n",
        "        1    0.000    0.000    0.000    0.000 {method 'disable' of '_lsprof.Profiler' objects}\n",
        "\n",
        "\n"
       ]
      },
      {
       "metadata": {},
       "output_type": "pyout",
       "prompt_number": 67,
       "text": [
        "<pstats.Stats instance at 0x107b3e5f0>"
       ]
      }
     ],
     "prompt_number": 67
    },
    {
     "cell_type": "code",
     "collapsed": false,
     "input": [],
     "language": "python",
     "metadata": {},
     "outputs": []
    }
   ],
   "metadata": {}
  }
 ]
}