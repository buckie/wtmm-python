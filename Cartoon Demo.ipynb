{
 "metadata": {
  "name": "",
  "signature": "sha256:fd68a845dcdce2606365cfd7d278810bef1a0fcb2aae76e9cab587757ace29d3"
 },
 "nbformat": 3,
 "nbformat_minor": 0,
 "worksheets": [
  {
   "cells": [
    {
     "cell_type": "markdown",
     "metadata": {
      "slideshow": {
       "slide_type": "slide"
      }
     },
     "source": [
      "## Hello World"
     ]
    },
    {
     "cell_type": "code",
     "collapsed": false,
     "input": [
      "%matplotlib inline\n",
      "from IPython.html.widgets import *\n",
      "import matplotlib.pyplot as plt\n",
      "\n",
      "\n",
      "def forgery(Iterations=0, Multifractal=1):\n",
      "    if Multifractal:\n",
      "        turns=((0.25,0.5),(0.75, 0.25))\n",
      "    else:\n",
      "        turns=((0.4,0.6),(0.6, 0.4))\n",
      "    first_turn, second_turn = turns\n",
      "    ys = [0,1]\n",
      "    ts = [0,1]\n",
      "    for i in range(0, Iterations + 1):\n",
      "        \n",
      "        j=0\n",
      "        while ts[j] < 1:\n",
      "            dt = ts[j+1] - ts[j] \n",
      "            dy = ys[j+1] - ys[j]\n",
      "            \n",
      "            ts.insert(j+1, ts[j] + first_turn[0]*dt)\n",
      "            ts.insert(j+2, ts[j] + second_turn[0]*dt)\n",
      "            ys.insert(j+1, ys[j] + first_turn[1]*dy)\n",
      "            ys.insert(j+2, ys[j] + second_turn[1]*dy)\n",
      "            \n",
      "            j += 3\n",
      "    \n",
      "    fig, ax = plt.subplots(figsize=(8, 8), subplot_kw={'axisbg':'#EEEEEE', 'axisbelow':True})\n",
      "    ax.grid(color='w', linewidth=2, linestyle='solid')\n",
      "    ax.plot(ts, ys, color='b', alpha=0.4)\n",
      "    ax.set_xlim(0, 1)\n",
      "    ax.set_ylim(0, 1)\n",
      "    \n",
      "    return fig\n",
      "\n",
      "def forgery_prices(Iterations=10, Multifractal=1):\n",
      "    if Multifractal:\n",
      "        turns=((0.25,0.5),(0.75, 0.25))\n",
      "    else:\n",
      "        turns=((0.4,0.6),(0.6, 0.4))\n",
      "    first_turn, second_turn = turns\n",
      "    ys = [0,1]\n",
      "    ts = [0,1]\n",
      "    for i in range(0, Iterations + 1):\n",
      "        \n",
      "        j=0\n",
      "        while ts[j] < 1:\n",
      "            dt = ts[j+1] - ts[j] \n",
      "            dy = ys[j+1] - ys[j]\n",
      "            \n",
      "            ts.insert(j+1, ts[j] + first_turn[0]*dt)\n",
      "            ts.insert(j+2, ts[j] + second_turn[0]*dt)\n",
      "            ys.insert(j+1, ys[j] + first_turn[1]*dy)\n",
      "            ys.insert(j+2, ys[j] + second_turn[1]*dy)\n",
      "            \n",
      "            j += 3\n",
      "    \n",
      "    return ys\n"
     ],
     "language": "python",
     "metadata": {},
     "outputs": [],
     "prompt_number": 13
    },
    {
     "cell_type": "code",
     "collapsed": false,
     "input": [
      "interact(forgery, Multifractal=CheckboxWidget(value=False), Iterations=(0, 9, 1))"
     ],
     "language": "python",
     "metadata": {},
     "outputs": [
      {
       "metadata": {},
       "output_type": "pyout",
       "prompt_number": 14,
       "text": [
        "<function __main__.forgery>"
       ]
      },
      {
       "metadata": {},
       "output_type": "display_data",
       "png": "[encoded data removed]",
       "text": [
        "<matplotlib.figure.Figure at 0x7fc1963936d0>"
       ]
      }
     ],
     "prompt_number": 14
    },
    {
     "cell_type": "code",
     "collapsed": false,
     "input": [
      "\n",
      "foo = set([1,2,3])\n"
     ],
     "language": "python",
     "metadata": {},
     "outputs": [],
     "prompt_number": 10
    },
    {
     "cell_type": "code",
     "collapsed": false,
     "input": [
      "foo.add(1)\n",
      "foo"
     ],
     "language": "python",
     "metadata": {},
     "outputs": [
      {
       "metadata": {},
       "output_type": "pyout",
       "prompt_number": 11,
       "text": [
        "{1, 2, 3}"
       ]
      }
     ],
     "prompt_number": 11
    },
    {
     "cell_type": "code",
     "collapsed": false,
     "input": [
      "for i in range(6):\n",
      "    print len(forgery_prices(i))"
     ],
     "language": "python",
     "metadata": {},
     "outputs": [
      {
       "output_type": "stream",
       "stream": "stdout",
       "text": [
        "4\n",
        "10\n",
        "28\n",
        "82\n",
        "244\n",
        "730\n"
       ]
      }
     ],
     "prompt_number": 17
    },
    {
     "cell_type": "code",
     "collapsed": false,
     "input": [
      "4, 10, 28, 82, 244, 730"
     ],
     "language": "python",
     "metadata": {},
     "outputs": []
    }
   ],
   "metadata": {}
  }
 ]
}